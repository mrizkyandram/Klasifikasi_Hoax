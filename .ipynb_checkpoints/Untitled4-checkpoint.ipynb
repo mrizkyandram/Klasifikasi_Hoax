{
 "cells": [
  {
   "cell_type": "code",
   "execution_count": 26,
   "id": "fbb0fa8e",
   "metadata": {},
   "outputs": [],
   "source": [
    "import sys\n",
    "import json\n",
    "import base64\n",
    "import string\n",
    "import re\n",
    "import pickle\n",
    "import numpy as np\n",
    "\n",
    "from nltk.tokenize import word_tokenize\n",
    "from nltk.corpus import stopwords\n",
    "from Sastrawi.Stemmer.StemmerFactory import StemmerFactory\n",
    "from keras.preprocessing.text import Tokenizer\n",
    "from keras.preprocessing.sequence import pad_sequences\n",
    "from keras.models import load_model\n",
    "from keras.models import model_from_json"
   ]
  },
  {
   "cell_type": "code",
   "execution_count": 2,
   "id": "f8d9ed78",
   "metadata": {},
   "outputs": [],
   "source": [
    "from nltk.stem.porter import PorterStemmer\n",
    "ps = PorterStemmer()"
   ]
  },
  {
   "cell_type": "code",
   "execution_count": 33,
   "id": "0d4524ff",
   "metadata": {},
   "outputs": [],
   "source": [
    "model = pickle.load(open('model2.pkl', 'rb'))\n",
    "tfidfvect = pickle.load(open('tfidfvect2.pkl', 'rb'))"
   ]
  },
  {
   "cell_type": "code",
   "execution_count": 34,
   "id": "c6ae61b1",
   "metadata": {},
   "outputs": [],
   "source": [
    "data = \"Hoax adalah berita bohong atau kabar palsu. Menurut Kamus Besar Bahasa Indonesia (KBBI), hoaks atau hoax adalah berita bohong atau berita tidak bersumber. Hoax adalah informasi yang sesungguhnya tidak benar. Tapi dibuat seolah-olah benar adanya dan diverifikasi kebenarannya. Dengan kata lain, sebagai upaya memutarbalikkan fakta.\""
   ]
  },
  {
   "cell_type": "code",
   "execution_count": 35,
   "id": "b8f4caa8",
   "metadata": {},
   "outputs": [],
   "source": [
    "review = re.sub('[^a-zA-Z]', ' ', data)"
   ]
  },
  {
   "cell_type": "code",
   "execution_count": 36,
   "id": "23dd0626",
   "metadata": {},
   "outputs": [
    {
     "name": "stdout",
     "output_type": "stream",
     "text": [
      "Hoax adalah berita bohong atau kabar palsu. Menurut Kamus Besar Bahasa Indonesia (KBBI), hoaks atau hoax adalah berita bohong atau berita tidak bersumber. Hoax adalah informasi yang sesungguhnya tidak benar. Tapi dibuat seolah-olah benar adanya dan diverifikasi kebenarannya. Dengan kata lain, sebagai upaya memutarbalikkan fakta.\n"
     ]
    }
   ],
   "source": [
    "print (data)"
   ]
  },
  {
   "cell_type": "code",
   "execution_count": 37,
   "id": "30b62398",
   "metadata": {},
   "outputs": [],
   "source": [
    "def case_folding(data):\n",
    "    data = data.lower()\n",
    "    return data\n",
    "\n",
    "\n",
    "def remove_punctuation(data):\n",
    "    data = data.translate(str.maketrans('', '', string.punctuation))\n",
    "    return data\n",
    "\n",
    "\n",
    "def remove_numbers(data):\n",
    "    data = re.sub(r'\\d+', '', data)\n",
    "    return data"
   ]
  },
  {
   "cell_type": "code",
   "execution_count": 38,
   "id": "f3bb2484",
   "metadata": {},
   "outputs": [
    {
     "ename": "AttributeError",
     "evalue": "'function' object has no attribute 'words'",
     "output_type": "error",
     "traceback": [
      "\u001b[1;31m---------------------------------------------------------------------------\u001b[0m",
      "\u001b[1;31mAttributeError\u001b[0m                            Traceback (most recent call last)",
      "\u001b[1;32m~\\AppData\\Local\\Temp/ipykernel_9728/1707301861.py\u001b[0m in \u001b[0;36m<module>\u001b[1;34m\u001b[0m\n\u001b[0;32m      4\u001b[0m \u001b[1;33m\u001b[0m\u001b[0m\n\u001b[0;32m      5\u001b[0m \u001b[1;33m\u001b[0m\u001b[0m\n\u001b[1;32m----> 6\u001b[1;33m \u001b[0mlist_stopwords\u001b[0m \u001b[1;33m=\u001b[0m \u001b[0mset\u001b[0m\u001b[1;33m(\u001b[0m\u001b[0mstopwords\u001b[0m\u001b[1;33m.\u001b[0m\u001b[0mwords\u001b[0m\u001b[1;33m(\u001b[0m\u001b[1;34m'indonesian'\u001b[0m\u001b[1;33m)\u001b[0m\u001b[1;33m)\u001b[0m\u001b[1;33m\u001b[0m\u001b[1;33m\u001b[0m\u001b[0m\n\u001b[0m\u001b[0;32m      7\u001b[0m \u001b[1;33m\u001b[0m\u001b[0m\n\u001b[0;32m      8\u001b[0m \u001b[1;33m\u001b[0m\u001b[0m\n",
      "\u001b[1;31mAttributeError\u001b[0m: 'function' object has no attribute 'words'"
     ]
    }
   ],
   "source": [
    "def remove_whitespace(data):\n",
    "    data = data.strip()\n",
    "    return data\n",
    "\n",
    "\n",
    "list_stopwords = set(stopwords.words('indonesian'))\n",
    "\n",
    "\n",
    "def stopwords(data):\n",
    "    hasil_list = []\n",
    "    for i in data:\n",
    "        if i not in list_stopwords and len(i) >= 3 and len(i) <= 12 and i not in hasil_list:\n",
    "            hasil_list.append(i)\n",
    "    data = hasil_list\n",
    "    return data"
   ]
  },
  {
   "cell_type": "code",
   "execution_count": 39,
   "id": "0e825a44",
   "metadata": {},
   "outputs": [],
   "source": [
    "factory = StemmerFactory()\n",
    "stemmer = factory.create_stemmer()\n",
    "\n",
    "\n",
    "def stemming(data):\n",
    "    data_akhir = []\n",
    "    for i in data:\n",
    "        kata = stemmer.stem(i)\n",
    "        data_akhir.append(kata)\n",
    "    return data_akhir\n"
   ]
  },
  {
   "cell_type": "code",
   "execution_count": 40,
   "id": "cc661e4c",
   "metadata": {},
   "outputs": [
    {
     "name": "stdout",
     "output_type": "stream",
     "text": [
      "Hoax adalah berita bohong atau kabar palsu. Menurut Kamus Besar Bahasa Indonesia (KBBI), hoaks atau hoax adalah berita bohong atau berita tidak bersumber. Hoax adalah informasi yang sesungguhnya tidak benar. Tapi dibuat seolah-olah benar adanya dan diverifikasi kebenarannya. Dengan kata lain, sebagai upaya memutarbalikkan fakta.\n"
     ]
    }
   ],
   "source": [
    "hasil_case_folding = []\n",
    "for i in range(len(data)):\n",
    "    hasil_case_folding.append(case_folding(data[i]))\n",
    "\n",
    "hasil_remove_punctuation = []\n",
    "for i in range(len(hasil_case_folding)):\n",
    "    hasil_remove_punctuation.append(remove_punctuation(hasil_case_folding[i]))\n",
    "str_remove_punctuation = str(hasil_remove_punctuation)\n",
    "\n",
    "hasil_remove_numbers = []\n",
    "for i in range(len(hasil_remove_punctuation)):\n",
    "    hasil_remove_numbers.append(remove_numbers(hasil_remove_punctuation[i]))\n",
    "str_remove_numbers = str(hasil_remove_numbers)\n",
    "\n",
    "\n",
    "hasil_remove_whitespace = []\n",
    "for i in range(len(hasil_remove_numbers)):\n",
    "    hasil_remove_whitespace.append(remove_whitespace(hasil_remove_numbers[i]))\n",
    "str_remove_whitespace = str(hasil_remove_whitespace)\n",
    "\n",
    "print(data)"
   ]
  },
  {
   "cell_type": "code",
   "execution_count": 44,
   "id": "1c232097",
   "metadata": {},
   "outputs": [],
   "source": [
    "hasil_tokenizing = []\n",
    "for i in range(len(hasil_remove_whitespace)):\n",
    "    hasil_tokenizing.append(tokenizing(hasil_remove_whitespace[i]))\n",
    "\n",
    "str_tokenizing = str(hasil_tokenizing[0])"
   ]
  },
  {
   "cell_type": "code",
   "execution_count": 46,
   "id": "c10f4102",
   "metadata": {},
   "outputs": [],
   "source": [
    "hasil_stemming = []\n",
    "for i in range(len(hasil_stopword)):\n",
    "    hasil_stemming.append(stemming(hasil_stopword[i]))\n",
    "\n",
    "str_stemming = str(hasil_stemming[0])\n",
    "\n",
    "preprocessing = [' '.join(sen) for sen in hasil_stemming]"
   ]
  },
  {
   "cell_type": "code",
   "execution_count": 51,
   "id": "13376b7b",
   "metadata": {},
   "outputs": [
    {
     "ename": "NameError",
     "evalue": "name 'x_test' is not defined",
     "output_type": "error",
     "traceback": [
      "\u001b[1;31m---------------------------------------------------------------------------\u001b[0m",
      "\u001b[1;31mNameError\u001b[0m                                 Traceback (most recent call last)",
      "\u001b[1;32m~\\AppData\\Local\\Temp/ipykernel_9728/2947601153.py\u001b[0m in \u001b[0;36m<module>\u001b[1;34m\u001b[0m\n\u001b[1;32m----> 1\u001b[1;33m \u001b[0mprediksi\u001b[0m \u001b[1;33m=\u001b[0m \u001b[0mmodel\u001b[0m\u001b[1;33m.\u001b[0m\u001b[0mpredict\u001b[0m\u001b[1;33m(\u001b[0m\u001b[0mx_test\u001b[0m\u001b[1;33m,\u001b[0m \u001b[0mbatch_size\u001b[0m\u001b[1;33m=\u001b[0m\u001b[1;36m1\u001b[0m\u001b[1;33m,\u001b[0m \u001b[0mverbose\u001b[0m\u001b[1;33m=\u001b[0m\u001b[1;36m0\u001b[0m\u001b[1;33m)\u001b[0m\u001b[1;33m\u001b[0m\u001b[1;33m\u001b[0m\u001b[0m\n\u001b[0m",
      "\u001b[1;31mNameError\u001b[0m: name 'x_test' is not defined"
     ]
    }
   ],
   "source": [
    "prediksi = model.predict(x_test, batch_size=1, verbose=0)"
   ]
  },
  {
   "cell_type": "code",
   "execution_count": null,
   "id": "983d9d90",
   "metadata": {},
   "outputs": [],
   "source": []
  }
 ],
 "metadata": {
  "kernelspec": {
   "display_name": "Python 3 (ipykernel)",
   "language": "python",
   "name": "python3"
  },
  "language_info": {
   "codemirror_mode": {
    "name": "ipython",
    "version": 3
   },
   "file_extension": ".py",
   "mimetype": "text/x-python",
   "name": "python",
   "nbconvert_exporter": "python",
   "pygments_lexer": "ipython3",
   "version": "3.9.7"
  }
 },
 "nbformat": 4,
 "nbformat_minor": 5
}
