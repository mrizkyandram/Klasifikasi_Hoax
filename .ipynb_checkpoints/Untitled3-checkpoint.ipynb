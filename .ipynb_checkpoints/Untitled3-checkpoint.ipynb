{
 "cells": [
  {
   "cell_type": "code",
   "execution_count": 1,
   "id": "2e51e604",
   "metadata": {},
   "outputs": [],
   "source": [
    "import sys\n",
    "import json\n",
    "import base64\n",
    "import string\n",
    "import re\n",
    "import pickle\n",
    "import numpy as np\n",
    "\n",
    "from nltk.tokenize import word_tokenize\n",
    "from nltk.corpus import stopwords\n",
    "from Sastrawi.Stemmer.StemmerFactory import StemmerFactory\n",
    "from keras.preprocessing.text import Tokenizer\n",
    "from keras.preprocessing.sequence import pad_sequences\n",
    "from keras.models import load_model\n",
    "from keras.models import model_from_json"
   ]
  },
  {
   "cell_type": "code",
   "execution_count": 4,
   "id": "a8d3289b",
   "metadata": {},
   "outputs": [],
   "source": [
    "ps = PorterStemmer()"
   ]
  },
  {
   "cell_type": "code",
   "execution_count": 3,
   "id": "435c54bd",
   "metadata": {},
   "outputs": [],
   "source": [
    "from nltk.stem.porter import PorterStemmer\n"
   ]
  },
  {
   "cell_type": "code",
   "execution_count": 5,
   "id": "0f66905c",
   "metadata": {},
   "outputs": [],
   "source": [
    "model = pickle.load(open('model2.pkl', 'rb'))\n",
    "tfidfvect = pickle.load(open('tfidfvect2.pkl', 'rb'))"
   ]
  },
  {
   "cell_type": "code",
   "execution_count": 6,
   "id": "bf435324",
   "metadata": {},
   "outputs": [],
   "source": [
    "text = \"Hoax adalah berita bohong atau kabar palsu. Menurut Kamus Besar Bahasa Indonesia (KBBI), hoaks atau hoax adalah berita bohong atau berita tidak bersumber. Hoax adalah informasi yang sesungguhnya tidak benar. Tapi dibuat seolah-olah benar adanya dan diverifikasi kebenarannya. Dengan kata lain, sebagai upaya memutarbalikkan fakta.\""
   ]
  },
  {
   "cell_type": "code",
   "execution_count": 7,
   "id": "bde43f19",
   "metadata": {},
   "outputs": [],
   "source": [
    "review = re.sub('[^a-zA-Z]', ' ', text)"
   ]
  },
  {
   "cell_type": "code",
   "execution_count": 9,
   "id": "0b5fa051",
   "metadata": {},
   "outputs": [
    {
     "name": "stdout",
     "output_type": "stream",
     "text": [
      "Hoax adalah berita bohong atau kabar palsu. Menurut Kamus Besar Bahasa Indonesia (KBBI), hoaks atau hoax adalah berita bohong atau berita tidak bersumber. Hoax adalah informasi yang sesungguhnya tidak benar. Tapi dibuat seolah-olah benar adanya dan diverifikasi kebenarannya. Dengan kata lain, sebagai upaya memutarbalikkan fakta.\n"
     ]
    }
   ],
   "source": [
    "print (text)"
   ]
  },
  {
   "cell_type": "code",
   "execution_count": 10,
   "id": "5df39b1a",
   "metadata": {},
   "outputs": [],
   "source": [
    "text = text.translate(str.maketrans('', '', string.punctuation))"
   ]
  },
  {
   "cell_type": "code",
   "execution_count": 11,
   "id": "d7a09099",
   "metadata": {},
   "outputs": [
    {
     "name": "stdout",
     "output_type": "stream",
     "text": [
      "Hoax adalah berita bohong atau kabar palsu Menurut Kamus Besar Bahasa Indonesia KBBI hoaks atau hoax adalah berita bohong atau berita tidak bersumber Hoax adalah informasi yang sesungguhnya tidak benar Tapi dibuat seolaholah benar adanya dan diverifikasi kebenarannya Dengan kata lain sebagai upaya memutarbalikkan fakta\n"
     ]
    }
   ],
   "source": [
    "print(text)"
   ]
  },
  {
   "cell_type": "code",
   "execution_count": 13,
   "id": "2a9362f7",
   "metadata": {},
   "outputs": [],
   "source": [
    "text = re.sub(r'\\d+', '', text)"
   ]
  },
  {
   "cell_type": "code",
   "execution_count": 14,
   "id": "5ef2f453",
   "metadata": {},
   "outputs": [
    {
     "name": "stdout",
     "output_type": "stream",
     "text": [
      "Hoax adalah berita bohong atau kabar palsu Menurut Kamus Besar Bahasa Indonesia KBBI hoaks atau hoax adalah berita bohong atau berita tidak bersumber Hoax adalah informasi yang sesungguhnya tidak benar Tapi dibuat seolaholah benar adanya dan diverifikasi kebenarannya Dengan kata lain sebagai upaya memutarbalikkan fakta\n"
     ]
    }
   ],
   "source": [
    "print(text)"
   ]
  },
  {
   "cell_type": "code",
   "execution_count": 15,
   "id": "3891a5f4",
   "metadata": {},
   "outputs": [
    {
     "name": "stdout",
     "output_type": "stream",
     "text": [
      "['Hoax', 'adalah', 'berita', 'bohong', 'atau', 'kabar', 'palsu', 'Menurut', 'Kamus', 'Besar', 'Bahasa', 'Indonesia', 'KBBI', 'hoaks', 'atau', 'hoax', 'adalah', 'berita', 'bohong', 'atau', 'berita', 'tidak', 'bersumber', 'Hoax', 'adalah', 'informasi', 'yang', 'sesungguhnya', 'tidak', 'benar', 'Tapi', 'dibuat', 'seolaholah', 'benar', 'adanya', 'dan', 'diverifikasi', 'kebenarannya', 'Dengan', 'kata', 'lain', 'sebagai', 'upaya', 'memutarbalikkan', 'fakta']\n"
     ]
    }
   ],
   "source": [
    "text = word_tokenize(text)\n",
    "print(text)"
   ]
  },
  {
   "cell_type": "code",
   "execution_count": 18,
   "id": "8d33b0b2",
   "metadata": {},
   "outputs": [],
   "source": [
    "list_stopwords = set(stopwords.words('indonesian'))"
   ]
  },
  {
   "cell_type": "code",
   "execution_count": 28,
   "id": "7ad4506f",
   "metadata": {},
   "outputs": [
    {
     "name": "stdout",
     "output_type": "stream",
     "text": [
      "['Hoax']\n",
      "['Hoax', 'berita']\n",
      "['Hoax', 'berita', 'bohong']\n",
      "['Hoax', 'berita', 'bohong', 'kabar']\n",
      "['Hoax', 'berita', 'bohong', 'kabar', 'palsu']\n",
      "['Hoax', 'berita', 'bohong', 'kabar', 'palsu', 'Menurut']\n",
      "['Hoax', 'berita', 'bohong', 'kabar', 'palsu', 'Menurut', 'Kamus']\n",
      "['Hoax', 'berita', 'bohong', 'kabar', 'palsu', 'Menurut', 'Kamus', 'Besar']\n",
      "['Hoax', 'berita', 'bohong', 'kabar', 'palsu', 'Menurut', 'Kamus', 'Besar', 'Bahasa']\n",
      "['Hoax', 'berita', 'bohong', 'kabar', 'palsu', 'Menurut', 'Kamus', 'Besar', 'Bahasa', 'Indonesia']\n",
      "['Hoax', 'berita', 'bohong', 'kabar', 'palsu', 'Menurut', 'Kamus', 'Besar', 'Bahasa', 'Indonesia', 'KBBI']\n",
      "['Hoax', 'berita', 'bohong', 'kabar', 'palsu', 'Menurut', 'Kamus', 'Besar', 'Bahasa', 'Indonesia', 'KBBI', 'hoaks']\n",
      "['Hoax', 'berita', 'bohong', 'kabar', 'palsu', 'Menurut', 'Kamus', 'Besar', 'Bahasa', 'Indonesia', 'KBBI', 'hoaks', 'hoax']\n",
      "['Hoax', 'berita', 'bohong', 'kabar', 'palsu', 'Menurut', 'Kamus', 'Besar', 'Bahasa', 'Indonesia', 'KBBI', 'hoaks', 'hoax', 'bersumber']\n",
      "['Hoax', 'berita', 'bohong', 'kabar', 'palsu', 'Menurut', 'Kamus', 'Besar', 'Bahasa', 'Indonesia', 'KBBI', 'hoaks', 'hoax', 'bersumber', 'informasi']\n",
      "['Hoax', 'berita', 'bohong', 'kabar', 'palsu', 'Menurut', 'Kamus', 'Besar', 'Bahasa', 'Indonesia', 'KBBI', 'hoaks', 'hoax', 'bersumber', 'informasi', 'sesungguhnya']\n",
      "['Hoax', 'berita', 'bohong', 'kabar', 'palsu', 'Menurut', 'Kamus', 'Besar', 'Bahasa', 'Indonesia', 'KBBI', 'hoaks', 'hoax', 'bersumber', 'informasi', 'sesungguhnya', 'Tapi']\n",
      "['Hoax', 'berita', 'bohong', 'kabar', 'palsu', 'Menurut', 'Kamus', 'Besar', 'Bahasa', 'Indonesia', 'KBBI', 'hoaks', 'hoax', 'bersumber', 'informasi', 'sesungguhnya', 'Tapi', 'seolaholah']\n",
      "['Hoax', 'berita', 'bohong', 'kabar', 'palsu', 'Menurut', 'Kamus', 'Besar', 'Bahasa', 'Indonesia', 'KBBI', 'hoaks', 'hoax', 'bersumber', 'informasi', 'sesungguhnya', 'Tapi', 'seolaholah', 'diverifikasi']\n",
      "['Hoax', 'berita', 'bohong', 'kabar', 'palsu', 'Menurut', 'Kamus', 'Besar', 'Bahasa', 'Indonesia', 'KBBI', 'hoaks', 'hoax', 'bersumber', 'informasi', 'sesungguhnya', 'Tapi', 'seolaholah', 'diverifikasi', 'kebenarannya']\n",
      "['Hoax', 'berita', 'bohong', 'kabar', 'palsu', 'Menurut', 'Kamus', 'Besar', 'Bahasa', 'Indonesia', 'KBBI', 'hoaks', 'hoax', 'bersumber', 'informasi', 'sesungguhnya', 'Tapi', 'seolaholah', 'diverifikasi', 'kebenarannya', 'Dengan']\n",
      "['Hoax', 'berita', 'bohong', 'kabar', 'palsu', 'Menurut', 'Kamus', 'Besar', 'Bahasa', 'Indonesia', 'KBBI', 'hoaks', 'hoax', 'bersumber', 'informasi', 'sesungguhnya', 'Tapi', 'seolaholah', 'diverifikasi', 'kebenarannya', 'Dengan', 'upaya']\n",
      "['Hoax', 'berita', 'bohong', 'kabar', 'palsu', 'Menurut', 'Kamus', 'Besar', 'Bahasa', 'Indonesia', 'KBBI', 'hoaks', 'hoax', 'bersumber', 'informasi', 'sesungguhnya', 'Tapi', 'seolaholah', 'diverifikasi', 'kebenarannya', 'Dengan', 'upaya', 'fakta']\n"
     ]
    }
   ],
   "source": [
    "hasil_list = []\n",
    "\n",
    "for i in text:\n",
    "    if i not in list_stopwords and len(i) >= 3 and len(i) <= 12 and i not in hasil_list:\n",
    "        hasil_list.append(i)\n",
    "    text = hasil_list\n",
    "    print(text)"
   ]
  },
  {
   "cell_type": "code",
   "execution_count": 29,
   "id": "fe5bed04",
   "metadata": {},
   "outputs": [],
   "source": [
    "factory = StemmerFactory()\n",
    "stemmer = factory.create_stemmer()\n"
   ]
  },
  {
   "cell_type": "code",
   "execution_count": 30,
   "id": "7f1e94f8",
   "metadata": {},
   "outputs": [
    {
     "ename": "IndentationError",
     "evalue": "unexpected indent (Temp/ipykernel_9492/3676371842.py, line 2)",
     "output_type": "error",
     "traceback": [
      "\u001b[1;36m  File \u001b[1;32m\"C:\\Users\\muham\\AppData\\Local\\Temp/ipykernel_9492/3676371842.py\"\u001b[1;36m, line \u001b[1;32m2\u001b[0m\n\u001b[1;33m    for i in data:\u001b[0m\n\u001b[1;37m    ^\u001b[0m\n\u001b[1;31mIndentationError\u001b[0m\u001b[1;31m:\u001b[0m unexpected indent\n"
     ]
    }
   ],
   "source": [
    "data_akhir = []\n",
    "    for i in text:\n",
    "        kata = stemmer.stem(i)\n",
    "        data_akhir.append(kata)\n",
    "    print (data_akhir)"
   ]
  },
  {
   "cell_type": "code",
   "execution_count": null,
   "id": "e5b74525",
   "metadata": {},
   "outputs": [],
   "source": []
  }
 ],
 "metadata": {
  "kernelspec": {
   "display_name": "Python 3 (ipykernel)",
   "language": "python",
   "name": "python3"
  },
  "language_info": {
   "codemirror_mode": {
    "name": "ipython",
    "version": 3
   },
   "file_extension": ".py",
   "mimetype": "text/x-python",
   "name": "python",
   "nbconvert_exporter": "python",
   "pygments_lexer": "ipython3",
   "version": "3.9.7"
  }
 },
 "nbformat": 4,
 "nbformat_minor": 5
}
